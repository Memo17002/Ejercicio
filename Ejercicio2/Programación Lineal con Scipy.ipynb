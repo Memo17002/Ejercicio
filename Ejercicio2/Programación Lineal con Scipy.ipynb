{
 "cells": [
  {
   "cell_type": "markdown",
   "id": "d53a8071-6c38-4622-ad74-900227bba8dd",
   "metadata": {},
   "source": [
    "Máximizar: "
   ]
  },
  {
   "cell_type": "markdown",
   "id": "1910b703-b0c0-438c-850d-f9f870d35c6c",
   "metadata": {},
   "source": [
    "$z=4x_1+x_2$"
   ]
  },
  {
   "cell_type": "markdown",
   "id": "0fafd3bc-bc22-4c62-acca-1e14181bd702",
   "metadata": {},
   "source": [
    "Sujeta a:"
   ]
  },
  {
   "cell_type": "markdown",
   "id": "56cce0cc-1a52-4094-b660-0da1102faaab",
   "metadata": {},
   "source": [
    "$3x_1 + x_2 = 3$\n",
    "\n",
    "$4x_1 + 3x_2 \\geq 6$\n",
    "\n",
    "$x_1 + 2x_2 \\leq 4$"
   ]
  },
  {
   "cell_type": "code",
   "execution_count": 20,
   "id": "b054a88f-8bba-4197-ab0c-00f2986ead4c",
   "metadata": {},
   "outputs": [],
   "source": [
    "from scipy.optimize import linprog "
   ]
  },
  {
   "cell_type": "markdown",
   "id": "ae8039c1-703f-4e30-a957-4394b54c8ef1",
   "metadata": {},
   "source": [
    "#### La libreria anterior \"from scipy.optimize import linprog\" funciona para resolver problemas de programación lineal de tipo:"
   ]
  },
  {
   "cell_type": "markdown",
   "id": "fdf95595-0b5a-4a00-ab7f-a6f7943cd3c1",
   "metadata": {},
   "source": [
    "### min $c^Tx$\n",
    "\n",
    "### Sujeto a:\n",
    "\n",
    "### $A_{ub}x \\leq b_{ub}$\n",
    "\n",
    "### $A_{eq}x = b_{eq}$\n",
    "\n",
    "### $l \\leq x \\leq u$\n",
    "\n",
    "#### Donde x es un vector de valores a minimizar; $c, b_{ub}, b_{eq}, l$ y $u$ son vectores; y $A_{ub}$ y $A_{eq}$ son matrices"
   ]
  },
  {
   "cell_type": "markdown",
   "id": "701d6771-cdc4-4627-a039-a029845b9d0b",
   "metadata": {},
   "source": [
    "#### Dado que nuestro problema se enfoca en maximizar, utilizamos los valores negativos de los coeficientes de la función objetivo z, como los que usamos comunmente en el metodo simplex"
   ]
  },
  {
   "cell_type": "markdown",
   "id": "f0790fab-4f38-4434-be51-465817081683",
   "metadata": {},
   "source": [
    "#### Ahora, como  la libreria trabaja con matrices, necesitamos establecer nuestro programa lineal en este última forma, comenzamos declarando una matriz que obtenga los valores objetivos y que según la sintaxis de la libreria, debe ser nuestra matriz $c$"
   ]
  },
  {
   "cell_type": "code",
   "execution_count": 42,
   "id": "2cb90db0-87f1-4374-92d9-9115f8cc9c06",
   "metadata": {},
   "outputs": [],
   "source": [
    "c=[-4,-1]"
   ]
  },
  {
   "cell_type": "markdown",
   "id": "6411a0d3-220b-4a88-92d4-6bfa83f76185",
   "metadata": {},
   "source": [
    "#### Ahora debemos de hacer una matriz $A_{eq}$ para la igualdad $3x_1 + x_2 = 3$, no podemos hacer simplemente una declaración como en $c$, es decir, no basta con colocar $A_{eq}=[3,1]$; debido a que el problema contiene tres restricciones, la matriz $A_{eq}$ debe ser escrita de tal manera que las contenga, no importa que escribamos posteriormente la matriz $A_{ub}$ de desigualdades, la matriz de igualdades debe ser escrita de la siguiente manera:"
   ]
  },
  {
   "cell_type": "code",
   "execution_count": 77,
   "id": "b9767c33-560c-4d6d-8d9b-fd389e1ae44f",
   "metadata": {},
   "outputs": [],
   "source": [
    "A=[[3,1],[0,0],[0,0]]"
   ]
  },
  {
   "cell_type": "markdown",
   "id": "aedb7cd5-1407-4885-b31f-03347b5430e1",
   "metadata": {},
   "source": [
    "#### Donde cada \"$[a,b]$\" es una columna de la matriz A construida, más adelante explicaremos porque no la declaramos como $A_{eq}$.\n",
    "\n",
    "#### Como solo existe una igualdad y debido a que la matriz debe contener tres restricciones, simplemente colocamos columnas con entradas cero, para no alterar el resultado de la optimización.\n",
    "\n",
    "#### Ahora escribimos una matriz $A_{ub}$, agregando de igual manera una columna extra de ceros para tener tres resricciones correspondientes al programa lineal y la interpretación que dan las librerias al mismo:"
   ]
  },
  {
   "cell_type": "code",
   "execution_count": 75,
   "id": "8c9a8b48-46e9-41b6-9b25-c302e050ed68",
   "metadata": {},
   "outputs": [],
   "source": [
    "B= [[0,0],[-4,-3],[1,2]]"
   ]
  },
  {
   "cell_type": "markdown",
   "id": "eaa6d09f-a4ee-41f7-9e23-733736af754e",
   "metadata": {},
   "source": [
    "#### Los valores \"$[-4,-3]$\" son los coeficientes negativos de $4x_1 + 3x_2 \\geq 6$ son tomados de esta forma debido a que la libreria toma restricciones de la forma $A_{ub}x \\leq b_{ub}$, es decir, menor o igual (\\leq), por lo que multiplicamos por $-1$ para obtener esta desigualdad. "
   ]
  },
  {
   "cell_type": "markdown",
   "id": "2e85a6f1-c74b-46d1-a196-3ffae7ab6320",
   "metadata": {},
   "source": [
    "#### Ahora solo falta construir las matrices $b$ puesto que tenemos dos matrices, $A_{eq}(A)$ y $A_{ub}(B)$, necesitamos dos matrices $b_1$ y $b_2$ con los valores corespondientes de las restriciones en $A_{eq}$ y $A_{ub}$"
   ]
  },
  {
   "cell_type": "code",
   "execution_count": 65,
   "id": "19e19699-32b6-4b3c-8895-26e19794d45c",
   "metadata": {},
   "outputs": [],
   "source": [
    "b1=[3,0,0]\n",
    "b2=[0,-6,4]"
   ]
  },
  {
   "cell_type": "markdown",
   "id": "59df2e6e-2fa2-40a9-b68d-7670fba00f89",
   "metadata": {},
   "source": [
    "#### Ahora solo falta darle un rango de valores a las $x_1$ y $x_2$ que obtendremos. Como las dos variables mencionadas deben ser mayor a cero, entonces"
   ]
  },
  {
   "cell_type": "code",
   "execution_count": 68,
   "id": "e48be3fd-f797-4e8c-b779-1b494961a673",
   "metadata": {},
   "outputs": [],
   "source": [
    "x1_bounds = (0, None)\n",
    "x2_bounds = (0, None)"
   ]
  },
  {
   "cell_type": "markdown",
   "id": "9efcb6b4-874a-4634-a1a5-14ecadd57f93",
   "metadata": {},
   "source": [
    "#### Lo anterior indica que nuestro valores son mayores o iguales a cero, donde \"None\" indica que nuestro valores, no estan restringidos por ningun valor."
   ]
  },
  {
   "cell_type": "code",
   "execution_count": 79,
   "id": "2563a992-e0e2-490d-ac42-21b5f8507a71",
   "metadata": {},
   "outputs": [],
   "source": [
    "model_linear = linprog(c, A_ub=B, b_ub=b2, A_eq=A, b_eq=b1, bounds=[x1_bounds, x2_bounds])"
   ]
  },
  {
   "cell_type": "markdown",
   "id": "13e60e35-585c-4f6e-923c-80ef28eeda1e",
   "metadata": {},
   "source": [
    "#### \"model_linear = linprog ()\" iguala los valores de las matrices declaradas anteriormente, con los valores correspondientes $A_{eq}$, $A_{ub}$, $b_ub$ y $b_{eq}$, de la sintaxis de la libreria, es por eso que las declaramos como $A$ y $B$ pues al llamar a esta función, seria redundante. \n",
    "\n",
    "#### La función anterior también indica con que variables trabajara y que restricciones tienen estas mismas, esta lo hace con \"$bounds=[x,y]$\"."
   ]
  },
  {
   "cell_type": "markdown",
   "id": "9ec91f8b-a05f-4257-adea-c6560dcea3c3",
   "metadata": {},
   "source": [
    "#### Finalmente con \"$print (model$_$linear)$\", imprimimos los resultados "
   ]
  },
  {
   "cell_type": "code",
   "execution_count": 86,
   "id": "09cdfd78-5de4-478b-a417-3e624f7c78f5",
   "metadata": {},
   "outputs": [
    {
     "name": "stdout",
     "output_type": "stream",
     "text": [
      "        message: Optimization terminated successfully. (HiGHS Status 7: Optimal)\n",
      "        success: True\n",
      "         status: 0\n",
      "            fun: -3.5999999999999996\n",
      "              x: [ 6.000e-01  1.200e+00]\n",
      "            nit: 0\n",
      "          lower:  residual: [ 6.000e-01  1.200e+00]\n",
      "                 marginals: [ 0.000e+00  0.000e+00]\n",
      "          upper:  residual: [       inf        inf]\n",
      "                 marginals: [ 0.000e+00  0.000e+00]\n",
      "          eqlin:  residual: [ 0.000e+00  0.000e+00  0.000e+00]\n",
      "                 marginals: [-1.600e+00 -0.000e+00 -0.000e+00]\n",
      "        ineqlin:  residual: [ 0.000e+00  0.000e+00  1.000e+00]\n",
      "                 marginals: [-0.000e+00 -2.000e-01 -0.000e+00]\n",
      " mip_node_count: 0\n",
      " mip_dual_bound: 0.0\n",
      "        mip_gap: 0.0\n"
     ]
    }
   ],
   "source": [
    "print(model_linear)"
   ]
  },
  {
   "cell_type": "markdown",
   "id": "9f7c8684-719b-4555-9535-e2bdcda43d26",
   "metadata": {},
   "source": [
    "#### Donde \"$x:$ $[6.000e-01, 1.200e+00]$\" es el resultado esperado "
   ]
  },
  {
   "cell_type": "markdown",
   "id": "f0231686-2a83-4835-bfa2-6c831f3a8dc4",
   "metadata": {},
   "source": [
    "#### Una forma de obtener unicamente el resultado de las varibales $x_1$ y $x_2$ es:"
   ]
  },
  {
   "cell_type": "code",
   "execution_count": 115,
   "id": "35ea3300-30d7-47a2-a73c-4100d9be8ab8",
   "metadata": {},
   "outputs": [
    {
     "name": "stdout",
     "output_type": "stream",
     "text": [
      "[0.6 1.2]\n"
     ]
    }
   ],
   "source": [
    "print(str(model_linear.x))"
   ]
  },
  {
   "cell_type": "markdown",
   "id": "96b25596-1146-4f8e-825e-2e97ebdbbf66",
   "metadata": {},
   "source": [
    "# Forma gráfica"
   ]
  },
  {
   "cell_type": "code",
   "execution_count": 204,
   "id": "46f89c17-17ee-4289-b608-340cbe4fa38e",
   "metadata": {},
   "outputs": [],
   "source": [
    "import matplotlib.pyplot as plt\n",
    "import numpy as np"
   ]
  },
  {
   "cell_type": "code",
   "execution_count": 208,
   "id": "7a72ca60-c595-443e-9065-47123bf6884c",
   "metadata": {},
   "outputs": [],
   "source": [
    "x=np.linspace(0,6,50)\n",
    "x2=np.linspace(0,6,50)"
   ]
  },
  {
   "cell_type": "code",
   "execution_count": 217,
   "id": "85cab12e-5cfa-4d24-96c9-daaee7423bb3",
   "metadata": {},
   "outputs": [
    {
     "data": {
      "image/png": "[encoded data removed]",
      "text/plain": [
       "<Figure size 640x480 with 1 Axes>"
      ]
     },
     "metadata": {},
     "output_type": "display_data"
    }
   ],
   "source": [
    "plt.figure()\n",
    "\n",
    "\n",
    "\n",
    "plt.plot([0,4.0],[2.0,0],color=\"green\", alpha=0.125)\n",
    "plt.fill_between([0,4.0],[2.0,0],color=\"green\",alpha=0.125)\n",
    "\n",
    "\n",
    "plt.plot(x,3-3*x,color=\"red\", alpha=0.25)\n",
    "plt.plot(x,2-(4*x)/3,color=\"blue\", alpha=0.25)\n",
    "\n",
    "\n",
    "\n",
    "plt.scatter([0.6],[1.2])\n",
    "\n",
    "\n",
    "\n",
    "\n",
    "plt.xlabel(\"$X_{1}$\")\n",
    "plt.ylabel(\"$X_{2}$\")\n",
    "\n",
    "\n",
    "plt.xlim(0)\n",
    "plt.ylim(0)\n",
    "\n",
    "plt.show()"
   ]
  },
  {
   "cell_type": "markdown",
   "id": "484f119b-ea6e-4c81-be6f-1e4fbc48c396",
   "metadata": {},
   "source": [
    "#### La gráfica muestra que el punto óptimo es el punto de intersección de $3x_1 + x_2 = 3$ y $4x_1 + 3x_2 \\geq 6$. Graficando el punto $x=[0.6,1.2]$ obtenido anterioromente, vemos que claramente, este es punto de intersección."
   ]
  },
  {
   "cell_type": "code",
   "execution_count": null,
   "id": "2111fbf7-5ce3-46d6-a4b2-45ac18da88ca",
   "metadata": {},
   "outputs": [],
   "source": []
  }
 ],
 "metadata": {
  "kernelspec": {
   "display_name": "Python 3 (ipykernel)",
   "language": "python",
   "name": "python3"
  },
  "language_info": {
   "codemirror_mode": {
    "name": "ipython",
    "version": 3
   },
   "file_extension": ".py",
   "mimetype": "text/x-python",
   "name": "python",
   "nbconvert_exporter": "python",
   "pygments_lexer": "ipython3",
   "version": "3.12.4"
  }
 },
 "nbformat": 4,
 "nbformat_minor": 5
}
